{
 "cells": [
  {
   "cell_type": "code",
   "execution_count": 2,
   "metadata": {},
   "outputs": [
    {
     "name": "stdout",
     "output_type": "stream",
     "text": [
      "Requirement already satisfied: spotipy in d:\\anaconda\\lib\\site-packages (2.20.0)\n",
      "Requirement already satisfied: six>=1.15.0 in d:\\anaconda\\lib\\site-packages (from spotipy) (1.16.0)\n",
      "Requirement already satisfied: requests>=2.25.0 in d:\\anaconda\\lib\\site-packages (from spotipy) (2.31.0)\n",
      "Requirement already satisfied: redis>=3.5.3 in d:\\anaconda\\lib\\site-packages (from spotipy) (4.3.4)\n",
      "Requirement already satisfied: urllib3>=1.26.0 in d:\\anaconda\\lib\\site-packages (from spotipy) (1.26.7)\n",
      "Requirement already satisfied: deprecated>=1.2.3 in d:\\anaconda\\lib\\site-packages (from redis>=3.5.3->spotipy) (1.2.13)\n",
      "Requirement already satisfied: async-timeout>=4.0.2 in d:\\anaconda\\lib\\site-packages (from redis>=3.5.3->spotipy) (4.0.2)\n",
      "Requirement already satisfied: packaging>=20.4 in d:\\anaconda\\lib\\site-packages (from redis>=3.5.3->spotipy) (20.9)\n",
      "Requirement already satisfied: wrapt<2,>=1.10 in d:\\anaconda\\lib\\site-packages (from deprecated>=1.2.3->redis>=3.5.3->spotipy) (1.12.1)\n",
      "Requirement already satisfied: pyparsing>=2.0.2 in d:\\anaconda\\lib\\site-packages (from packaging>=20.4->redis>=3.5.3->spotipy) (3.0.4)\n",
      "Requirement already satisfied: idna<4,>=2.5 in d:\\anaconda\\lib\\site-packages (from requests>=2.25.0->spotipy) (3.2)\n",
      "Requirement already satisfied: charset-normalizer<4,>=2 in d:\\anaconda\\lib\\site-packages (from requests>=2.25.0->spotipy) (2.0.4)\n",
      "Requirement already satisfied: certifi>=2017.4.17 in d:\\anaconda\\lib\\site-packages (from requests>=2.25.0->spotipy) (2021.10.8)\n"
     ]
    }
   ],
   "source": [
    "!pip install spotipy"
   ]
  },
  {
   "cell_type": "code",
   "execution_count": 3,
   "metadata": {},
   "outputs": [],
   "source": [
    "import spotipy\n",
    "from spotipy.oauth2 import SpotifyClientCredentials\n",
    "import pandas as pd\n",
    "import json"
   ]
  },
  {
   "cell_type": "code",
   "execution_count": 4,
   "metadata": {},
   "outputs": [],
   "source": [
    "with open('./cred.json') as crd:\n",
    "    cred_dict = json.load(crd)\n",
    "    client_id = cred_dict.get('client_id')\n",
    "    client_secret = cred_dict.get('client_secret')"
   ]
  },
  {
   "cell_type": "code",
   "execution_count": 5,
   "metadata": {},
   "outputs": [],
   "source": [
    "client_credentials = SpotifyClientCredentials(client_id=client_id, client_secret=client_secret)"
   ]
  },
  {
   "cell_type": "markdown",
   "metadata": {},
   "source": [
    "### Creating object of spotify to extract data from Spotify API"
   ]
  },
  {
   "cell_type": "code",
   "execution_count": 6,
   "metadata": {},
   "outputs": [],
   "source": [
    "sp = spotipy.Spotify(client_credentials_manager=client_credentials)"
   ]
  },
  {
   "cell_type": "code",
   "execution_count": 7,
   "metadata": {},
   "outputs": [],
   "source": [
    "playlist_link = \"https://open.spotify.com/playlist/5ABHKGoOzxkaa28ttQV9sE\""
   ]
  },
  {
   "cell_type": "code",
   "execution_count": 8,
   "metadata": {},
   "outputs": [
    {
     "data": {
      "text/plain": [
       "['https:', '', 'open.spotify.com', 'playlist', '5ABHKGoOzxkaa28ttQV9sE']"
      ]
     },
     "execution_count": 8,
     "metadata": {},
     "output_type": "execute_result"
    }
   ],
   "source": [
    "playlist_link.split(\"/\")"
   ]
  },
  {
   "cell_type": "code",
   "execution_count": 9,
   "metadata": {},
   "outputs": [],
   "source": [
    "playlist_URI = playlist_link.split('/')[-1]"
   ]
  },
  {
   "cell_type": "code",
   "execution_count": 10,
   "metadata": {},
   "outputs": [],
   "source": [
    "data = sp.playlist_tracks(playlist_URI)"
   ]
  },
  {
   "cell_type": "markdown",
   "metadata": {},
   "source": [
    "### Data Exploration"
   ]
  },
  {
   "cell_type": "code",
   "execution_count": 11,
   "metadata": {},
   "outputs": [
    {
     "data": {
      "text/plain": [
       "100"
      ]
     },
     "execution_count": 11,
     "metadata": {},
     "output_type": "execute_result"
    }
   ],
   "source": [
    "len(data['items'])"
   ]
  },
  {
   "cell_type": "code",
   "execution_count": 12,
   "metadata": {},
   "outputs": [
    {
     "data": {
      "text/plain": [
       "'4yP0hdKOZPNshxUOjY0cZj'"
      ]
     },
     "execution_count": 12,
     "metadata": {},
     "output_type": "execute_result"
    }
   ],
   "source": [
    "data['items'][0]['track']['album']['id']"
   ]
  },
  {
   "cell_type": "code",
   "execution_count": 13,
   "metadata": {},
   "outputs": [
    {
     "data": {
      "text/plain": [
       "'After Hours'"
      ]
     },
     "execution_count": 13,
     "metadata": {},
     "output_type": "execute_result"
    }
   ],
   "source": [
    "data['items'][0]['track']['album']['name']"
   ]
  },
  {
   "cell_type": "code",
   "execution_count": 14,
   "metadata": {},
   "outputs": [
    {
     "data": {
      "text/plain": [
       "'2020-03-20'"
      ]
     },
     "execution_count": 14,
     "metadata": {},
     "output_type": "execute_result"
    }
   ],
   "source": [
    "data['items'][0]['track']['album']['release_date']"
   ]
  },
  {
   "cell_type": "code",
   "execution_count": 15,
   "metadata": {},
   "outputs": [
    {
     "data": {
      "text/plain": [
       "14"
      ]
     },
     "execution_count": 15,
     "metadata": {},
     "output_type": "execute_result"
    }
   ],
   "source": [
    "data['items'][0]['track']['album']['total_tracks']"
   ]
  },
  {
   "cell_type": "code",
   "execution_count": 16,
   "metadata": {},
   "outputs": [
    {
     "data": {
      "text/plain": [
       "'https://open.spotify.com/album/4yP0hdKOZPNshxUOjY0cZj'"
      ]
     },
     "execution_count": 16,
     "metadata": {},
     "output_type": "execute_result"
    }
   ],
   "source": [
    "data['items'][0]['track']['album']['external_urls']['spotify']"
   ]
  },
  {
   "cell_type": "markdown",
   "metadata": {},
   "source": [
    "### Data extraction and data cleaning"
   ]
  },
  {
   "cell_type": "code",
   "execution_count": 17,
   "metadata": {},
   "outputs": [],
   "source": [
    "album_list = []\n",
    "\n",
    "for row in data['items']:\n",
    "    album_id = row['track']['album']['id']\n",
    "    album_name = row['track']['album']['name']\n",
    "    album_release_date = row['track']['album']['release_date']\n",
    "    album_total_tracks = row['track']['album']['total_tracks']\n",
    "    album_url = row['track']['album']['external_urls']['spotify']\n",
    "    \n",
    "    #Convert into dictionary so that we can access it via dataframes:\n",
    "    album_element = { 'album_id':album_id, 'album_name':album_name, 'album_release_date':album_release_date, 'album_total_tracks':album_total_tracks, 'album_url':album_url }\n",
    "\n",
    "    album_list.append(album_element)"
   ]
  },
  {
   "cell_type": "code",
   "execution_count": 18,
   "metadata": {},
   "outputs": [
    {
     "data": {
      "text/plain": [
       "[{'external_urls': {'spotify': 'https://open.spotify.com/artist/1Xyo4u8uXC1ZmMpatF05PJ'},\n",
       "  'href': 'https://api.spotify.com/v1/artists/1Xyo4u8uXC1ZmMpatF05PJ',\n",
       "  'id': '1Xyo4u8uXC1ZmMpatF05PJ',\n",
       "  'name': 'The Weeknd',\n",
       "  'type': 'artist',\n",
       "  'uri': 'spotify:artist:1Xyo4u8uXC1ZmMpatF05PJ'}]"
      ]
     },
     "execution_count": 18,
     "metadata": {},
     "output_type": "execute_result"
    }
   ],
   "source": [
    "data['items'][0]['track']['artists']"
   ]
  },
  {
   "cell_type": "code",
   "execution_count": 19,
   "metadata": {},
   "outputs": [],
   "source": [
    "artist_list = []\n",
    "for row in data['items']:\n",
    "    for key, value in row.items():\n",
    "        if key == \"track\":\n",
    "            for artist in value['artists']:\n",
    "                artist_element = {'artist_id':artist['id'], 'artist_name':artist['name'], 'external_url':artist['href']}\n",
    "                artist_list.append(artist_element)"
   ]
  },
  {
   "cell_type": "code",
   "execution_count": 20,
   "metadata": {},
   "outputs": [
    {
     "data": {
      "text/plain": [
       "{'album': {'album_type': 'album',\n",
       "  'artists': [{'external_urls': {'spotify': 'https://open.spotify.com/artist/1Xyo4u8uXC1ZmMpatF05PJ'},\n",
       "    'href': 'https://api.spotify.com/v1/artists/1Xyo4u8uXC1ZmMpatF05PJ',\n",
       "    'id': '1Xyo4u8uXC1ZmMpatF05PJ',\n",
       "    'name': 'The Weeknd',\n",
       "    'type': 'artist',\n",
       "    'uri': 'spotify:artist:1Xyo4u8uXC1ZmMpatF05PJ'}],\n",
       "  'available_markets': ['AR',\n",
       "   'AU',\n",
       "   'AT',\n",
       "   'BE',\n",
       "   'BO',\n",
       "   'BR',\n",
       "   'BG',\n",
       "   'CA',\n",
       "   'CL',\n",
       "   'CO',\n",
       "   'CR',\n",
       "   'CY',\n",
       "   'CZ',\n",
       "   'DK',\n",
       "   'DO',\n",
       "   'DE',\n",
       "   'EC',\n",
       "   'EE',\n",
       "   'SV',\n",
       "   'FI',\n",
       "   'FR',\n",
       "   'GR',\n",
       "   'GT',\n",
       "   'HN',\n",
       "   'HK',\n",
       "   'HU',\n",
       "   'IS',\n",
       "   'IE',\n",
       "   'IT',\n",
       "   'LV',\n",
       "   'LT',\n",
       "   'LU',\n",
       "   'MY',\n",
       "   'MT',\n",
       "   'MX',\n",
       "   'NL',\n",
       "   'NZ',\n",
       "   'NI',\n",
       "   'NO',\n",
       "   'PA',\n",
       "   'PY',\n",
       "   'PE',\n",
       "   'PH',\n",
       "   'PL',\n",
       "   'PT',\n",
       "   'SG',\n",
       "   'SK',\n",
       "   'ES',\n",
       "   'SE',\n",
       "   'CH',\n",
       "   'TW',\n",
       "   'TR',\n",
       "   'UY',\n",
       "   'US',\n",
       "   'GB',\n",
       "   'AD',\n",
       "   'LI',\n",
       "   'MC',\n",
       "   'ID',\n",
       "   'JP',\n",
       "   'TH',\n",
       "   'VN',\n",
       "   'RO',\n",
       "   'IL',\n",
       "   'ZA',\n",
       "   'SA',\n",
       "   'AE',\n",
       "   'BH',\n",
       "   'QA',\n",
       "   'OM',\n",
       "   'KW',\n",
       "   'EG',\n",
       "   'MA',\n",
       "   'DZ',\n",
       "   'TN',\n",
       "   'LB',\n",
       "   'JO',\n",
       "   'PS',\n",
       "   'IN',\n",
       "   'BY',\n",
       "   'KZ',\n",
       "   'MD',\n",
       "   'UA',\n",
       "   'AL',\n",
       "   'BA',\n",
       "   'HR',\n",
       "   'ME',\n",
       "   'MK',\n",
       "   'RS',\n",
       "   'SI',\n",
       "   'KR',\n",
       "   'BD',\n",
       "   'PK',\n",
       "   'LK',\n",
       "   'GH',\n",
       "   'KE',\n",
       "   'NG',\n",
       "   'TZ',\n",
       "   'UG',\n",
       "   'AG',\n",
       "   'AM',\n",
       "   'BS',\n",
       "   'BB',\n",
       "   'BZ',\n",
       "   'BT',\n",
       "   'BW',\n",
       "   'BF',\n",
       "   'CV',\n",
       "   'CW',\n",
       "   'DM',\n",
       "   'FJ',\n",
       "   'GM',\n",
       "   'GE',\n",
       "   'GD',\n",
       "   'GW',\n",
       "   'GY',\n",
       "   'HT',\n",
       "   'JM',\n",
       "   'KI',\n",
       "   'LS',\n",
       "   'LR',\n",
       "   'MW',\n",
       "   'MV',\n",
       "   'ML',\n",
       "   'MH',\n",
       "   'FM',\n",
       "   'NA',\n",
       "   'NR',\n",
       "   'NE',\n",
       "   'PW',\n",
       "   'PG',\n",
       "   'WS',\n",
       "   'SM',\n",
       "   'ST',\n",
       "   'SN',\n",
       "   'SC',\n",
       "   'SL',\n",
       "   'SB',\n",
       "   'KN',\n",
       "   'LC',\n",
       "   'VC',\n",
       "   'SR',\n",
       "   'TL',\n",
       "   'TO',\n",
       "   'TT',\n",
       "   'TV',\n",
       "   'VU',\n",
       "   'AZ',\n",
       "   'BN',\n",
       "   'BI',\n",
       "   'KH',\n",
       "   'CM',\n",
       "   'TD',\n",
       "   'KM',\n",
       "   'GQ',\n",
       "   'SZ',\n",
       "   'GA',\n",
       "   'GN',\n",
       "   'KG',\n",
       "   'LA',\n",
       "   'MO',\n",
       "   'MR',\n",
       "   'MN',\n",
       "   'NP',\n",
       "   'RW',\n",
       "   'TG',\n",
       "   'UZ',\n",
       "   'ZW',\n",
       "   'BJ',\n",
       "   'MG',\n",
       "   'MU',\n",
       "   'MZ',\n",
       "   'AO',\n",
       "   'CI',\n",
       "   'DJ',\n",
       "   'ZM',\n",
       "   'CD',\n",
       "   'CG',\n",
       "   'IQ',\n",
       "   'LY',\n",
       "   'TJ',\n",
       "   'VE',\n",
       "   'ET',\n",
       "   'XK'],\n",
       "  'external_urls': {'spotify': 'https://open.spotify.com/album/4yP0hdKOZPNshxUOjY0cZj'},\n",
       "  'href': 'https://api.spotify.com/v1/albums/4yP0hdKOZPNshxUOjY0cZj',\n",
       "  'id': '4yP0hdKOZPNshxUOjY0cZj',\n",
       "  'images': [{'height': 640,\n",
       "    'url': 'https://i.scdn.co/image/ab67616d0000b2738863bc11d2aa12b54f5aeb36',\n",
       "    'width': 640},\n",
       "   {'height': 300,\n",
       "    'url': 'https://i.scdn.co/image/ab67616d00001e028863bc11d2aa12b54f5aeb36',\n",
       "    'width': 300},\n",
       "   {'height': 64,\n",
       "    'url': 'https://i.scdn.co/image/ab67616d000048518863bc11d2aa12b54f5aeb36',\n",
       "    'width': 64}],\n",
       "  'name': 'After Hours',\n",
       "  'release_date': '2020-03-20',\n",
       "  'release_date_precision': 'day',\n",
       "  'total_tracks': 14,\n",
       "  'type': 'album',\n",
       "  'uri': 'spotify:album:4yP0hdKOZPNshxUOjY0cZj'},\n",
       " 'artists': [{'external_urls': {'spotify': 'https://open.spotify.com/artist/1Xyo4u8uXC1ZmMpatF05PJ'},\n",
       "   'href': 'https://api.spotify.com/v1/artists/1Xyo4u8uXC1ZmMpatF05PJ',\n",
       "   'id': '1Xyo4u8uXC1ZmMpatF05PJ',\n",
       "   'name': 'The Weeknd',\n",
       "   'type': 'artist',\n",
       "   'uri': 'spotify:artist:1Xyo4u8uXC1ZmMpatF05PJ'}],\n",
       " 'available_markets': ['AR',\n",
       "  'AU',\n",
       "  'AT',\n",
       "  'BE',\n",
       "  'BO',\n",
       "  'BR',\n",
       "  'BG',\n",
       "  'CA',\n",
       "  'CL',\n",
       "  'CO',\n",
       "  'CR',\n",
       "  'CY',\n",
       "  'CZ',\n",
       "  'DK',\n",
       "  'DO',\n",
       "  'DE',\n",
       "  'EC',\n",
       "  'EE',\n",
       "  'SV',\n",
       "  'FI',\n",
       "  'FR',\n",
       "  'GR',\n",
       "  'GT',\n",
       "  'HN',\n",
       "  'HK',\n",
       "  'HU',\n",
       "  'IS',\n",
       "  'IE',\n",
       "  'IT',\n",
       "  'LV',\n",
       "  'LT',\n",
       "  'LU',\n",
       "  'MY',\n",
       "  'MT',\n",
       "  'MX',\n",
       "  'NL',\n",
       "  'NZ',\n",
       "  'NI',\n",
       "  'NO',\n",
       "  'PA',\n",
       "  'PY',\n",
       "  'PE',\n",
       "  'PH',\n",
       "  'PL',\n",
       "  'PT',\n",
       "  'SG',\n",
       "  'SK',\n",
       "  'ES',\n",
       "  'SE',\n",
       "  'CH',\n",
       "  'TW',\n",
       "  'TR',\n",
       "  'UY',\n",
       "  'US',\n",
       "  'GB',\n",
       "  'AD',\n",
       "  'LI',\n",
       "  'MC',\n",
       "  'ID',\n",
       "  'JP',\n",
       "  'TH',\n",
       "  'VN',\n",
       "  'RO',\n",
       "  'IL',\n",
       "  'ZA',\n",
       "  'SA',\n",
       "  'AE',\n",
       "  'BH',\n",
       "  'QA',\n",
       "  'OM',\n",
       "  'KW',\n",
       "  'EG',\n",
       "  'MA',\n",
       "  'DZ',\n",
       "  'TN',\n",
       "  'LB',\n",
       "  'JO',\n",
       "  'PS',\n",
       "  'IN',\n",
       "  'BY',\n",
       "  'KZ',\n",
       "  'MD',\n",
       "  'UA',\n",
       "  'AL',\n",
       "  'BA',\n",
       "  'HR',\n",
       "  'ME',\n",
       "  'MK',\n",
       "  'RS',\n",
       "  'SI',\n",
       "  'KR',\n",
       "  'BD',\n",
       "  'PK',\n",
       "  'LK',\n",
       "  'GH',\n",
       "  'KE',\n",
       "  'NG',\n",
       "  'TZ',\n",
       "  'UG',\n",
       "  'AG',\n",
       "  'AM',\n",
       "  'BS',\n",
       "  'BB',\n",
       "  'BZ',\n",
       "  'BT',\n",
       "  'BW',\n",
       "  'BF',\n",
       "  'CV',\n",
       "  'CW',\n",
       "  'DM',\n",
       "  'FJ',\n",
       "  'GM',\n",
       "  'GE',\n",
       "  'GD',\n",
       "  'GW',\n",
       "  'GY',\n",
       "  'HT',\n",
       "  'JM',\n",
       "  'KI',\n",
       "  'LS',\n",
       "  'LR',\n",
       "  'MW',\n",
       "  'MV',\n",
       "  'ML',\n",
       "  'MH',\n",
       "  'FM',\n",
       "  'NA',\n",
       "  'NR',\n",
       "  'NE',\n",
       "  'PW',\n",
       "  'PG',\n",
       "  'WS',\n",
       "  'SM',\n",
       "  'ST',\n",
       "  'SN',\n",
       "  'SC',\n",
       "  'SL',\n",
       "  'SB',\n",
       "  'KN',\n",
       "  'LC',\n",
       "  'VC',\n",
       "  'SR',\n",
       "  'TL',\n",
       "  'TO',\n",
       "  'TT',\n",
       "  'TV',\n",
       "  'VU',\n",
       "  'AZ',\n",
       "  'BN',\n",
       "  'BI',\n",
       "  'KH',\n",
       "  'CM',\n",
       "  'TD',\n",
       "  'KM',\n",
       "  'GQ',\n",
       "  'SZ',\n",
       "  'GA',\n",
       "  'GN',\n",
       "  'KG',\n",
       "  'LA',\n",
       "  'MO',\n",
       "  'MR',\n",
       "  'MN',\n",
       "  'NP',\n",
       "  'RW',\n",
       "  'TG',\n",
       "  'UZ',\n",
       "  'ZW',\n",
       "  'BJ',\n",
       "  'MG',\n",
       "  'MU',\n",
       "  'MZ',\n",
       "  'AO',\n",
       "  'CI',\n",
       "  'DJ',\n",
       "  'ZM',\n",
       "  'CD',\n",
       "  'CG',\n",
       "  'IQ',\n",
       "  'LY',\n",
       "  'TJ',\n",
       "  'VE',\n",
       "  'ET',\n",
       "  'XK'],\n",
       " 'disc_number': 1,\n",
       " 'duration_ms': 200040,\n",
       " 'episode': False,\n",
       " 'explicit': False,\n",
       " 'external_ids': {'isrc': 'USUG11904206'},\n",
       " 'external_urls': {'spotify': 'https://open.spotify.com/track/0VjIjW4GlUZAMYd2vXMi3b'},\n",
       " 'href': 'https://api.spotify.com/v1/tracks/0VjIjW4GlUZAMYd2vXMi3b',\n",
       " 'id': '0VjIjW4GlUZAMYd2vXMi3b',\n",
       " 'is_local': False,\n",
       " 'name': 'Blinding Lights',\n",
       " 'popularity': 92,\n",
       " 'preview_url': None,\n",
       " 'track': True,\n",
       " 'track_number': 9,\n",
       " 'type': 'track',\n",
       " 'uri': 'spotify:track:0VjIjW4GlUZAMYd2vXMi3b'}"
      ]
     },
     "execution_count": 20,
     "metadata": {},
     "output_type": "execute_result"
    }
   ],
   "source": [
    "data['items'][0]['track']"
   ]
  },
  {
   "cell_type": "code",
   "execution_count": 21,
   "metadata": {},
   "outputs": [],
   "source": [
    "song_list = []\n",
    "for song in data['items']:\n",
    "    song_id = song['track']['id']\n",
    "    song_name = song['track']['name']\n",
    "    song_duration = song['track']['duration_ms']\n",
    "    song_url = song['track']['external_urls']['spotify']\n",
    "    song_popularity = song['track']['popularity']\n",
    "    song_added = song['added_at']\n",
    "    album_id = song['track']['album']['id']\n",
    "    artist_id = song['track']['album']['artists'][0]['id']\n",
    "    \n",
    "    song_element = {'song_id':song_id, 'song_name':song_name, 'duration_ms':song_duration, 'url':song_url, 'popularity':song_popularity, 'song_added':song_added, 'album_id':album_id, 'artist_id':artist_id}\n",
    "\n",
    "    song_list.append(song_element)"
   ]
  },
  {
   "cell_type": "code",
   "execution_count": 22,
   "metadata": {},
   "outputs": [],
   "source": [
    "album_df = pd.DataFrame.from_dict(album_list)"
   ]
  },
  {
   "cell_type": "code",
   "execution_count": 23,
   "metadata": {},
   "outputs": [
    {
     "data": {
      "text/html": [
       "<div>\n",
       "<style scoped>\n",
       "    .dataframe tbody tr th:only-of-type {\n",
       "        vertical-align: middle;\n",
       "    }\n",
       "\n",
       "    .dataframe tbody tr th {\n",
       "        vertical-align: top;\n",
       "    }\n",
       "\n",
       "    .dataframe thead th {\n",
       "        text-align: right;\n",
       "    }\n",
       "</style>\n",
       "<table border=\"1\" class=\"dataframe\">\n",
       "  <thead>\n",
       "    <tr style=\"text-align: right;\">\n",
       "      <th></th>\n",
       "      <th>album_id</th>\n",
       "      <th>album_name</th>\n",
       "      <th>album_release_date</th>\n",
       "      <th>album_total_tracks</th>\n",
       "      <th>album_url</th>\n",
       "    </tr>\n",
       "  </thead>\n",
       "  <tbody>\n",
       "    <tr>\n",
       "      <th>0</th>\n",
       "      <td>4yP0hdKOZPNshxUOjY0cZj</td>\n",
       "      <td>After Hours</td>\n",
       "      <td>2020-03-20</td>\n",
       "      <td>14</td>\n",
       "      <td>https://open.spotify.com/album/4yP0hdKOZPNshxU...</td>\n",
       "    </tr>\n",
       "  </tbody>\n",
       "</table>\n",
       "</div>"
      ],
      "text/plain": [
       "                 album_id   album_name album_release_date  album_total_tracks  \\\n",
       "0  4yP0hdKOZPNshxUOjY0cZj  After Hours         2020-03-20                  14   \n",
       "\n",
       "                                           album_url  \n",
       "0  https://open.spotify.com/album/4yP0hdKOZPNshxU...  "
      ]
     },
     "execution_count": 23,
     "metadata": {},
     "output_type": "execute_result"
    }
   ],
   "source": [
    "album_df.head(1)"
   ]
  },
  {
   "cell_type": "code",
   "execution_count": 24,
   "metadata": {},
   "outputs": [],
   "source": [
    "album_df = album_df.drop_duplicates(subset=['album_id'])"
   ]
  },
  {
   "cell_type": "code",
   "execution_count": 25,
   "metadata": {},
   "outputs": [],
   "source": [
    "artist_df = pd.DataFrame.from_dict(artist_list)"
   ]
  },
  {
   "cell_type": "code",
   "execution_count": 26,
   "metadata": {},
   "outputs": [
    {
     "data": {
      "text/plain": [
       "(133, 3)"
      ]
     },
     "execution_count": 26,
     "metadata": {},
     "output_type": "execute_result"
    }
   ],
   "source": [
    "artist_df.shape"
   ]
  },
  {
   "cell_type": "code",
   "execution_count": 27,
   "metadata": {},
   "outputs": [],
   "source": [
    "artist_df = artist_df.drop_duplicates(subset=['artist_id'])"
   ]
  },
  {
   "cell_type": "code",
   "execution_count": 28,
   "metadata": {},
   "outputs": [],
   "source": [
    "song_df = pd.DataFrame.from_dict(song_list)"
   ]
  },
  {
   "cell_type": "markdown",
   "metadata": {},
   "source": [
    "#### Date and time converstions"
   ]
  },
  {
   "cell_type": "code",
   "execution_count": 29,
   "metadata": {},
   "outputs": [],
   "source": [
    "album_df['album_release_date'] = pd.to_datetime(album_df['album_release_date'])"
   ]
  },
  {
   "cell_type": "code",
   "execution_count": 30,
   "metadata": {},
   "outputs": [
    {
     "name": "stdout",
     "output_type": "stream",
     "text": [
      "<class 'pandas.core.frame.DataFrame'>\n",
      "Int64Index: 95 entries, 0 to 99\n",
      "Data columns (total 5 columns):\n",
      " #   Column              Non-Null Count  Dtype         \n",
      "---  ------              --------------  -----         \n",
      " 0   album_id            95 non-null     object        \n",
      " 1   album_name          95 non-null     object        \n",
      " 2   album_release_date  95 non-null     datetime64[ns]\n",
      " 3   album_total_tracks  95 non-null     int64         \n",
      " 4   album_url           95 non-null     object        \n",
      "dtypes: datetime64[ns](1), int64(1), object(3)\n",
      "memory usage: 4.5+ KB\n"
     ]
    }
   ],
   "source": [
    "album_df.info()"
   ]
  },
  {
   "cell_type": "code",
   "execution_count": 81,
   "metadata": {},
   "outputs": [],
   "source": [
    "song_df['song_added'] = pd.to_datetime(song_df['song_added'])"
   ]
  },
  {
   "cell_type": "code",
   "execution_count": null,
   "metadata": {},
   "outputs": [],
   "source": []
  },
  {
   "cell_type": "code",
   "execution_count": null,
   "metadata": {},
   "outputs": [],
   "source": []
  }
 ],
 "metadata": {
  "kernelspec": {
   "display_name": "base",
   "language": "python",
   "name": "python3"
  },
  "language_info": {
   "codemirror_mode": {
    "name": "ipython",
    "version": 3
   },
   "file_extension": ".py",
   "mimetype": "text/x-python",
   "name": "python",
   "nbconvert_exporter": "python",
   "pygments_lexer": "ipython3",
   "version": "3.9.7"
  },
  "orig_nbformat": 4
 },
 "nbformat": 4,
 "nbformat_minor": 2
}
